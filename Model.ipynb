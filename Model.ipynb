{
 "cells": [
  {
   "cell_type": "code",
   "execution_count": 1,
   "metadata": {
    "collapsed": true
   },
   "outputs": [],
   "source": [
    "import numpy as np\n",
    "import pandas as pd\n",
    "import vtk\n",
    "from dfninverse import DFNINVERSE\n",
    "from numpy.random import randint, uniform, normal, random\n",
    "from numpy.linalg import det, inv, norm\n",
    "import matplotlib.pyplot as plt\n",
    "from numpy import diff\n",
    "from helper import latexify, vtk_show, vtk_meshrender, vtk_interactiveshow\n",
    "from model import mcmc_sampler\n",
    "%matplotlib inline"
   ]
  },
  {
   "cell_type": "markdown",
   "metadata": {},
   "source": [
    "## Display the synthetic DFN Model and field observation"
   ]
  },
  {
   "cell_type": "code",
   "execution_count": 2,
   "metadata": {
    "collapsed": true
   },
   "outputs": [],
   "source": [
    "# Set synthetic model information\n",
    "station_coordinates = [(0.4, 0.4, 0.2),   (0.4, 0.4, -0.2),    (0.4, -0.4, 0.2),\n",
    "                       (0.4, -0.4, -0.2), (-0.15, -0.08, 0.2), (-0.15, -0.08, 0)]\n",
    "\n",
    "syndfn_mesh = '/Volumes/SD_Card/Thesis_project/synthetic_model/output/full_mesh.vtk'\n",
    "syndfn_observation = '/Volumes/SD_Card/Thesis_project/synthetic_model/output/obs_readings.csv'"
   ]
  },
  {
   "cell_type": "code",
   "execution_count": 3,
   "metadata": {
    "collapsed": true
   },
   "outputs": [],
   "source": [
    "# Uncomment this cell to show the synthetic model\n",
    "# mesh_render = vtk_meshrender(syndfn_mesh, station_coordinates)\n",
    "# vtk_show(mesh_render, 600, 600)"
   ]
  },
  {
   "cell_type": "code",
   "execution_count": 4,
   "metadata": {
    "collapsed": true
   },
   "outputs": [],
   "source": [
    "# ncomment this cell to plot field observation\n",
    "# df = pd.read_csv(syndfn_observation, index_col=0)\n",
    "# fig = plt.figure(figsize=[8, 6])\n",
    "# for col in df.columns:\n",
    "#     plt.plot(np.arange(0, len(df)), df[col], label=col)\n",
    "# plt.xlabel('time step')\n",
    "# plt.ylabel('Pressure (Pa)')\n",
    "# plt.legend()\n",
    "# plt.title('Field Observation of the Synthetic DFN Model')\n",
    "# plt.show()"
   ]
  },
  {
   "cell_type": "markdown",
   "metadata": {},
   "source": [
    "# Run Inversion"
   ]
  },
  {
   "cell_type": "code",
   "execution_count": 5,
   "metadata": {
    "collapsed": true
   },
   "outputs": [],
   "source": [
    "# Set inverse project information\n",
    "project_path = '/Volumes/SD_Card/Thesis_project/dfn_test'\n",
    "field_observation_file = '/Volumes/SD_Card/Thesis_project/synthetic_model/output/obs_readings.csv'\n",
    "ncpu = 1\n",
    "dfninv = DFNINVERSE(project_path, field_observation_file, station_coordinates, ncpu)\n",
    "field_observation = dfninv.obs_data"
   ]
  },
  {
   "cell_type": "code",
   "execution_count": 6,
   "metadata": {},
   "outputs": [],
   "source": [
    "# Define the initial fractures\n",
    "observed_fractures = np.asarray([[-0.4, 0, 0, 0, np.pi / 2, 0.85],\n",
    "                                 [0.3, 0, 0.2, 0, np.pi / 2, 0.7],\n",
    "                                 [0.4, 0, -0.2, 0, np.pi / 2, 0.8]])\n",
    "inferred_fractures = np.asarray([[-0.15, 0, 0.2, 0, 0, 0.8]])\n",
    "\n",
    "n_inferred_frac = inferred_fractures.shape[0]\n",
    "n_observed_frac = observed_fractures.shape[0]\n",
    "\n",
    "# Define covariance matrix \\Sigma_f, \\Sigma_v\n",
    "sig_obs = 0.0001\n",
    "sig_unknown = 1\n",
    "\n",
    "sig_f = np.hstack((sig_obs * np.ones(n_observed_frac), sig_unknown * np.ones(n_inferred_frac)))\n",
    "sig_v = np.asarray([0.1, 1e-3, 1e-3, 1e-3, 1e-3, 1e-3])"
   ]
  },
  {
   "cell_type": "code",
   "execution_count": 7,
   "metadata": {
    "collapsed": true
   },
   "outputs": [],
   "source": [
    "mcmc = mcmc_sampler(dfninv, field_observation, var_sigma=[sig_f, sig_v], moves='D')"
   ]
  },
  {
   "cell_type": "code",
   "execution_count": 8,
   "metadata": {},
   "outputs": [],
   "source": [
    "s_initial = np.vstack((observed_fractures, inferred_fractures))"
   ]
  },
  {
   "cell_type": "code",
   "execution_count": 9,
   "metadata": {},
   "outputs": [
    {
     "name": "stderr",
     "output_type": "stream",
     "text": [
      "/Volumes/SD_Card/Thesis_project/pydfninv/model.py:195: RuntimeWarning: invalid value encountered in double_scalars\n",
      "  prior_ratio = prior_1 / prior_0\n"
     ]
    },
    {
     "name": "stdout",
     "output_type": "stream",
     "text": [
      "******************************Iteration:0******************************\n",
      "Move:D, Prior=0.0, RMS=337.00255105470836\n",
      "Accept: True\n"
     ]
    },
    {
     "name": "stderr",
     "output_type": "stream",
     "text": [
      "/Volumes/SD_Card/Thesis_project/pydfninv/model.py:195: RuntimeWarning: invalid value encountered in double_scalars\n",
      "  prior_ratio = prior_1 / prior_0\n",
      "/Volumes/SD_Card/Thesis_project/pydfninv/model.py:195: RuntimeWarning: invalid value encountered in double_scalars\n",
      "  prior_ratio = prior_1 / prior_0\n"
     ]
    },
    {
     "name": "stdout",
     "output_type": "stream",
     "text": [
      "******************************Iteration:1******************************\n",
      "Move:D, Prior=0.0, RMS=337.00255105470836\n",
      "Accept: True\n",
      "******************************Iteration:2******************************\n",
      "Move:D, Prior=0.0, RMS=337.00255105470836\n",
      "Accept: True\n",
      "******************************Iteration:3******************************\n",
      "Move:D, Prior=0.0, RMS=337.00255105470836\n",
      "Accept: True\n"
     ]
    },
    {
     "name": "stderr",
     "output_type": "stream",
     "text": [
      "/Volumes/SD_Card/Thesis_project/pydfninv/model.py:195: RuntimeWarning: invalid value encountered in double_scalars\n",
      "  prior_ratio = prior_1 / prior_0\n",
      "/Volumes/SD_Card/Thesis_project/pydfninv/model.py:195: RuntimeWarning: invalid value encountered in double_scalars\n",
      "  prior_ratio = prior_1 / prior_0\n",
      "/Volumes/SD_Card/Thesis_project/pydfninv/model.py:195: RuntimeWarning: invalid value encountered in double_scalars\n",
      "  prior_ratio = prior_1 / prior_0\n"
     ]
    },
    {
     "name": "stdout",
     "output_type": "stream",
     "text": [
      "******************************Iteration:4******************************\n",
      "Move:D, Prior=0.0, RMS=337.00255105470836\n",
      "Accept: True\n",
      "******************************Iteration:5******************************\n",
      "Move:D, Prior=0.0, RMS=337.00255105470836\n",
      "Accept: True\n"
     ]
    },
    {
     "name": "stderr",
     "output_type": "stream",
     "text": [
      "/Volumes/SD_Card/Thesis_project/pydfninv/model.py:195: RuntimeWarning: invalid value encountered in double_scalars\n",
      "  prior_ratio = prior_1 / prior_0\n"
     ]
    },
    {
     "name": "stdout",
     "output_type": "stream",
     "text": [
      "******************************Iteration:6******************************\n",
      "Move:D, Prior=0.0, RMS=337.00255105470836\n",
      "Accept: True\n",
      "******************************Iteration:7******************************\n",
      "Move:D, Prior=0.0, RMS=337.00255105470836\n",
      "Accept: True\n"
     ]
    },
    {
     "name": "stderr",
     "output_type": "stream",
     "text": [
      "/Volumes/SD_Card/Thesis_project/pydfninv/model.py:195: RuntimeWarning: invalid value encountered in double_scalars\n",
      "  prior_ratio = prior_1 / prior_0\n",
      "/Volumes/SD_Card/Thesis_project/pydfninv/model.py:195: RuntimeWarning: invalid value encountered in double_scalars\n",
      "  prior_ratio = prior_1 / prior_0\n"
     ]
    },
    {
     "name": "stdout",
     "output_type": "stream",
     "text": [
      "******************************Iteration:8******************************\n",
      "Move:D, Prior=0.0, RMS=337.00255105470836\n",
      "Accept: True\n",
      "******************************Iteration:9******************************\n",
      "Move:D, Prior=0.0, RMS=337.00255105470836\n",
      "Accept: True\n"
     ]
    },
    {
     "name": "stderr",
     "output_type": "stream",
     "text": [
      "/Volumes/SD_Card/Thesis_project/pydfninv/model.py:195: RuntimeWarning: invalid value encountered in double_scalars\n",
      "  prior_ratio = prior_1 / prior_0\n"
     ]
    }
   ],
   "source": [
    "chain = mcmc.sample(s_initial, 10)"
   ]
  },
  {
   "cell_type": "code",
   "execution_count": null,
   "metadata": {
    "collapsed": true
   },
   "outputs": [],
   "source": []
  },
  {
   "cell_type": "code",
   "execution_count": null,
   "metadata": {
    "collapsed": true
   },
   "outputs": [],
   "source": []
  },
  {
   "cell_type": "code",
   "execution_count": null,
   "metadata": {
    "collapsed": true
   },
   "outputs": [],
   "source": []
  },
  {
   "cell_type": "code",
   "execution_count": null,
   "metadata": {
    "collapsed": true
   },
   "outputs": [],
   "source": []
  },
  {
   "cell_type": "code",
   "execution_count": null,
   "metadata": {
    "collapsed": true
   },
   "outputs": [],
   "source": [
    "# Initialize MCMC\n",
    "prior_current = 1 #prior_probability(s_current)\n",
    "\n",
    "dfninv.run_forward_simulation(s_current)\n",
    "syn_data_current = dfninv.read_simulation_results()\n",
    "rms_0, rms_1, ratio_0 = likelihood_ratio(syn_data_current, syn_data_current, field_observation)\n",
    "status = {'model_id': 0, 'RMS': rms_0, 'fractures': s_current}\n",
    "dfninv.save_accepted_model(status, model_id=0, save_flag=True)"
   ]
  },
  {
   "cell_type": "code",
   "execution_count": null,
   "metadata": {},
   "outputs": [],
   "source": [
    "initial_dfn = project_path+'/accept_models/model_0/full_mesh.vtk'\n",
    "camera_angle = [0, 30, 0]\n",
    "dfnmesh_render = vtk_meshrender(initial_dfn, station_coordinates, camera_ang = camera_angle)\n",
    "vtk_show(dfnmesh_render, 600, 600)"
   ]
  },
  {
   "cell_type": "code",
   "execution_count": null,
   "metadata": {
    "scrolled": true
   },
   "outputs": [],
   "source": [
    "# Start loop\n",
    "max_iteration = 100\n",
    "i_iter = 0\n",
    "accept_case = 0\n",
    "model_trace = np.zeros([n_total, 6, max_iteration])\n",
    "\n",
    "while i_iter < max_iteration:\n",
    "    print('{0}Iteration:{1:d}{2}'.format('*' * 20, i_iter, '*' * 20))\n",
    "    model_trace[:, :, 0] = s_current\n",
    "    accept_flag = False\n",
    "\n",
    "    s_proposed = Matrix_normal_distribution(s_current, sigma_f, sigma_v).get_proposal()\n",
    "    dfninv.run_forward_simulation(s_proposed)\n",
    "    syn_data_proposed = dfninv.read_simulation_results()\n",
    "    prior_proposed = 1 #prior_probability(s_proposed)\n",
    "    print(prior_proposed)\n",
    "    print(s_proposed)\n",
    "    rms_current, rms_proposed, ratio_ll = likelihood_ratio(syn_data_current, syn_data_proposed, field_observation)\n",
    "    ratio_prior = prior_proposed / prior_current\n",
    "    ratio_proposal = 1\n",
    "\n",
    "    # calculate acceptance ratio\n",
    "    alpha_1 = min(1, ratio_ll * ratio_prior * ratio_proposal)\n",
    "    print(ratio_prior)\n",
    "    print('Likelihood ratio = {:.2f}'.format(ratio_ll))\n",
    "    print(alpha_1)\n",
    "    # print('Acceptance Ratio = {:3f}'.format(alpha_1))\n",
    "\n",
    "    if alpha_1 > random():\n",
    "        accept_flag = True\n",
    "        accept_case += 1\n",
    "\n",
    "        s_current = s_proposed\n",
    "        prior_current = prior_proposed\n",
    "        rms_current = rms_proposed\n",
    "        print('### Accept! RMS = {} ###'.format(rms_current))\n",
    "\n",
    "    status = {'model_id': accept_case, 'RMS': rms_current, 'fractures': s_current}\n",
    "    dfninv.save_accepted_model(status, model_id=accept_case, save_flag=accept_flag)\n",
    "    i_iter += 1"
   ]
  },
  {
   "cell_type": "code",
   "execution_count": null,
   "metadata": {
    "collapsed": true
   },
   "outputs": [],
   "source": [
    "# Analyze rms log\n",
    "with open(project_path + '/mcmc_log.txt', 'r') as logfile:\n",
    "    mcmc_log = logfile.readlines()\n",
    "    separator = '*' * 60 + '\\n'\n",
    "    idx_sep = [i for i, j in enumerate(mcmc_log) if j == separator]\n",
    "\n",
    "    n_fractures = idx_sep[1] - idx_sep[0] - 3\n",
    "    n_model = len(idx_sep)\n",
    "    \n",
    "    rms = []\n",
    "    for i in idx_sep:\n",
    "        rms.append(float(mcmc_log[i+2].replace('\\n', '')))"
   ]
  },
  {
   "cell_type": "code",
   "execution_count": null,
   "metadata": {},
   "outputs": [],
   "source": [
    "latexify()\n",
    "fig = plt.figure()\n",
    "plt.plot(rms)\n",
    "plt.xlabel('Iteration')\n",
    "plt.ylabel('RMS')\n",
    "plt.title('Root-Mean-Square Error Evolution as MCMC Iteration')\n",
    "plt.savefig(project_path + '/rms_iteration.pdf')\n",
    "plt.show()"
   ]
  },
  {
   "cell_type": "code",
   "execution_count": null,
   "metadata": {},
   "outputs": [],
   "source": [
    "latexify()\n",
    "fig = plt.figure()\n",
    "cx = model_trace[3, 1, :]\n",
    "plt.plot(cx)\n",
    "# plt.xlabel('Iteration')\n",
    "# plt.ylabel('RMS')\n",
    "# plt.title('Root-Mean-Square Error Evolution as MCMC Iteration')\n",
    "# plt.savefig(project_path + '/rms_iteration.pdf')\n",
    "plt.show()"
   ]
  },
  {
   "cell_type": "code",
   "execution_count": null,
   "metadata": {},
   "outputs": [],
   "source": [
    "print(cx.shape)"
   ]
  },
  {
   "cell_type": "code",
   "execution_count": null,
   "metadata": {
    "collapsed": true
   },
   "outputs": [],
   "source": []
  }
 ],
 "metadata": {
  "kernelspec": {
   "display_name": "Python 3",
   "language": "python",
   "name": "python3"
  },
  "language_info": {
   "codemirror_mode": {
    "name": "ipython",
    "version": 3
   },
   "file_extension": ".py",
   "mimetype": "text/x-python",
   "name": "python",
   "nbconvert_exporter": "python",
   "pygments_lexer": "ipython3",
   "version": "3.6.3"
  }
 },
 "nbformat": 4,
 "nbformat_minor": 2
}
